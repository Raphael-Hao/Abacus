{
 "cells": [
  {
   "cell_type": "markdown",
   "metadata": {},
   "source": [
    "# Stochastic Gradient Langevin Dynamics in MXNet"
   ]
  },
  {
   "cell_type": "code",
   "execution_count": 2,
   "metadata": {},
   "outputs": [],
   "source": [
    "%matplotlib inline"
   ]
  },
  {
   "cell_type": "markdown",
   "metadata": {},
   "source": [
    "In this notebook, we will show how to replicate the toy example in the paper <a name=\"ref-1\"/>[(Welling and Teh, 2011)](#cite-welling2011bayesian). Here we have observed 20 instances from a mixture of Gaussians with tied means:\n",
    "$$\n",
    "\\begin{aligned}\n",
    "\\theta_1 &\\sim N(0, \\sigma_1^2)\\\\\n",
    "\\theta_2 &\\sim N(0, \\sigma_2^2)\\\\\n",
    "x_i &\\sim \\frac{1}{2}N(0, \\sigma_x^2) + \\frac{1}{2}N(\\theta_1 + \\theta_2, \\sigma_x^2)\n",
    "\\end{aligned}\n",
    "$$\n",
    "We are asked to draw samples from the posterior distribution $p(\\theta_1, \\theta_2 \\mid X)$. In the following, we will use stochastic gradient langevin dynamics (SGLD) to do the sampling."
   ]
  },
  {
   "cell_type": "code",
   "execution_count": 3,
   "metadata": {},
   "outputs": [],
   "source": [
    "import mxnet as mx\n",
    "import mxnet.ndarray as nd\n",
    "import numpy\n",
    "import logging\n",
    "import time\n",
    "import matplotlib.pyplot as plt\n",
    "\n",
    "\n",
    "def load_synthetic(theta1, theta2, sigmax, num=20):\n",
    "    flag = numpy.random.randint(0, 2, (num,))\n",
    "    X = flag * numpy.random.normal(theta1, sigmax, (num, )) \\\n",
    "                    + (1.0 - flag) * numpy.random.normal(theta1 + theta2, sigmax, (num, ))\n",
    "    return X.astype('float32')\n",
    "\n",
    "\n",
    "class SGLDScheduler(mx.lr_scheduler.LRScheduler):\n",
    "    def __init__(self, begin_rate, end_rate, total_iter_num, factor):\n",
    "        super(SGLDScheduler, self).__init__()\n",
    "        if factor >= 1.0:\n",
    "            raise ValueError(\"Factor must be less than 1 to make lr reduce\")\n",
    "        self.begin_rate = begin_rate\n",
    "        self.end_rate = end_rate\n",
    "        self.total_iter_num = total_iter_num\n",
    "        self.factor = factor\n",
    "        self.b = (total_iter_num - 1.0) / ((begin_rate / end_rate) ** (1.0 / factor) - 1.0)\n",
    "        self.a = begin_rate / (self.b ** (-factor))\n",
    "        self.count = 0\n",
    "\n",
    "    def __call__(self, num_update):\n",
    "        self.base_lr = self.a * ((self.b + num_update) ** (-self.factor))\n",
    "        self.count += 1\n",
    "        return self.base_lr\n",
    "\n",
    "\n",
    "def synthetic_grad(X, theta, sigma1, sigma2, sigmax, rescale_grad=1.0, grad=None):\n",
    "    if grad is None:\n",
    "        grad = nd.empty(theta.shape, theta.context)\n",
    "    theta1 = theta.asnumpy()[0]\n",
    "    theta2 = theta.asnumpy()[1]\n",
    "    v1 = sigma1 **2\n",
    "    v2 = sigma2 **2\n",
    "    vx = sigmax **2\n",
    "    denominator = numpy.exp(-(X - theta1)**2/(2*vx)) + numpy.exp(-(X - theta1 - theta2)**2/(2*vx))\n",
    "    grad_npy = numpy.zeros(theta.shape)\n",
    "    grad_npy[0] = -rescale_grad*((numpy.exp(-(X - theta1)**2/(2*vx))*(X - theta1)/vx\n",
    "                + numpy.exp(-(X - theta1 - theta2)**2/(2*vx))*(X - theta1-theta2)/vx)/denominator).sum()\\\n",
    "                + theta1/v1\n",
    "    grad_npy[1] = -rescale_grad*((numpy.exp(-(X - theta1 - theta2)**2/(2*vx))*(X - theta1-theta2)/vx)/denominator).sum()\\\n",
    "                + theta2/v2\n",
    "    grad[:] = grad_npy\n",
    "    return grad"
   ]
  },
  {
   "cell_type": "markdown",
   "metadata": {},
   "source": [
    "We first write the generation process. In the paper, the data instances are generated with the following parameter, $\\theta_1^2=10, \\theta_2^2=1, \\theta_x^2=2$.\n",
    "Also, we need to write a new learning rate schedule as described in the paper $\\epsilon_t = a(b+t)^{-r}$\n",
    "and calculate the gradient. After these preparations, we can go on with the sampling process."
   ]
  },
  {
   "cell_type": "code",
   "execution_count": 4,
   "metadata": {},
   "outputs": [
    {
     "name": "stdout",
     "output_type": "stream",
     "text": [
      "Iter:100000, Time spent: 21.831000\n",
      "Iter:200000, Time spent: 21.752000\n",
      "Iter:300000, Time spent: 21.982000\n",
      "Iter:400000, Time spent: 21.866000\n",
      "Iter:500000, Time spent: 21.835000\n",
      "Iter:600000, Time spent: 21.917000\n",
      "Iter:700000, Time spent: 22.352000\n",
      "Iter:800000, Time spent: 21.952000\n",
      "Iter:900000, Time spent: 21.885000\n",
      "Iter:1000000, Time spent: 21.919000\n"
     ]
    }
   ],
   "source": [
    "numpy.random.seed(100)\n",
    "mx.random.seed(100)\n",
    "\n",
    "theta1 = 0\n",
    "theta2 = 1\n",
    "sigma1 = numpy.sqrt(10)\n",
    "sigma2 = 1\n",
    "sigmax = numpy.sqrt(2)\n",
    "X = load_synthetic(theta1=theta1, theta2=theta2, sigmax=sigmax, num=100)\n",
    "minibatch_size = 1\n",
    "total_iter_num = 1000000\n",
    "lr_scheduler = SGLDScheduler(begin_rate=0.01, end_rate=0.0001, total_iter_num=total_iter_num,\n",
    "                             factor=0.55)\n",
    "optimizer = mx.optimizer.create('sgld',\n",
    "                        learning_rate=None,\n",
    "                        rescale_grad=1.0,\n",
    "                        lr_scheduler=lr_scheduler,\n",
    "                        wd=0)\n",
    "updater = mx.optimizer.get_updater(optimizer)\n",
    "theta = mx.random.normal(0, 1, (2,), ctx=mx.cpu())\n",
    "grad = nd.empty((2,), mx.cpu())\n",
    "samples = numpy.zeros((2, total_iter_num))\n",
    "start = time.time()\n",
    "for i in range(total_iter_num):\n",
    "    if (i+1)%100000 == 0:\n",
    "        end = time.time()\n",
    "        print(\"Iter:%d, Time spent: %f\" %(i + 1, end-start))\n",
    "        start = time.time()\n",
    "    ind = numpy.random.randint(0, X.shape[0])\n",
    "    synthetic_grad(X[ind], theta, sigma1, sigma2, sigmax, rescale_grad=\n",
    "                            X.shape[0] / float(minibatch_size), grad=grad)\n",
    "    updater('theta', grad, theta)\n",
    "    samples[:, i] = theta.asnumpy()"
   ]
  },
  {
   "cell_type": "markdown",
   "metadata": {},
   "source": [
    "We have collected 1000000 samples in the **samples** variable. Now we can draw the density plot. For more about SGLD, the original paper and <a name=\"ref-2\"/>[(Neal, 2011)](#cite-neal2011mcmc) are good references."
   ]
  },
  {
   "cell_type": "code",
   "execution_count": 5,
   "metadata": {},
   "outputs": [
    {
     "data": {
      "image/png": "[encoded data removed]"
     },
     "output_type": "display_data",
     "metadata": {}
    }
   ],
   "source": [
    "plt.hist2d(samples[0, :], samples[1, :], (200, 200), cmap=plt.cm.jet)\n",
    "plt.colorbar()\n",
    "plt.show()"
   ]
  },
  {
   "cell_type": "markdown",
   "metadata": {},
   "source": [
    "<!--bibtex\n",
    "@inproceedings{welling2011bayesian,\n",
    "  title={Bayesian learning via stochastic gradient Langevin dynamics},\n",
    "  author={Welling, Max and Teh, Yee W},\n",
    "  booktitle={Proceedings of the 28th International Conference on Machine Learning (ICML-11)},\n",
    "  pages={681--688},\n",
    "  url=\"http://www.icml-2011.org/papers/398_icmlpaper.pdf\",\n",
    "  year={2011}\n",
    "}\n",
    "\n",
    "@article{neal2011mcmc,\n",
    "  title={MCMC using Hamiltonian dynamics},\n",
    "  author={Neal, Radford M and others},\n",
    "  journal={Handbook of Markov Chain Monte Carlo},\n",
    "  volume={2},\n",
    "  pages={113--162},\n",
    "  url=\"www.mcmchandbook.net/HandbookChapter5.pdf\",\n",
    "  year={2011}\n",
    "}\n",
    "\n",
    "-->"
   ]
  },
  {
   "cell_type": "markdown",
   "metadata": {},
   "source": [
    "# References\n",
    "\n",
    "<a name=\"cite-welling2011bayesian\"/><sup>[^](#ref-1) </sup>Welling, Max and Teh, Yee W. 2011. _Bayesian learning via stochastic gradient Langevin dynamics_. [URL](http://www.icml-2011.org/papers/398_icmlpaper.pdf)\n",
    "\n",
    "<a name=\"cite-neal2011mcmc\"/><sup>[^](#ref-2) </sup>Neal, Radford M and others. 2011. _MCMC using Hamiltonian dynamics_. [URL](www.mcmchandbook.net/HandbookChapter5.pdf)\n",
    "\n"
   ]
  }
 ],
 "metadata": {
  "kernelspec": {
   "display_name": "Python 2",
   "language": "python",
   "name": "python2"
  },
  "language_info": {
   "codemirror_mode": {
    "name": "ipython",
    "version": 2.0
   },
   "file_extension": ".py",
   "mimetype": "text/x-python",
   "name": "python",
   "nbconvert_exporter": "python",
   "pygments_lexer": "ipython2",
   "version": "2.7.9"
  }
 },
 "nbformat": 4,
 "nbformat_minor": 0
}
